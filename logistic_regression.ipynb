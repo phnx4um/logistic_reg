{
 "cells": [
  {
   "cell_type": "code",
   "execution_count": 31,
   "metadata": {},
   "outputs": [],
   "source": [
    "import numpy as np\n",
    "import pandas as pd"
   ]
  },
  {
   "cell_type": "code",
   "execution_count": 32,
   "metadata": {},
   "outputs": [
    {
     "data": {
      "text/html": [
       "<div>\n",
       "<style scoped>\n",
       "    .dataframe tbody tr th:only-of-type {\n",
       "        vertical-align: middle;\n",
       "    }\n",
       "\n",
       "    .dataframe tbody tr th {\n",
       "        vertical-align: top;\n",
       "    }\n",
       "\n",
       "    .dataframe thead th {\n",
       "        text-align: right;\n",
       "    }\n",
       "</style>\n",
       "<table border=\"1\" class=\"dataframe\">\n",
       "  <thead>\n",
       "    <tr style=\"text-align: right;\">\n",
       "      <th></th>\n",
       "      <th>3.6216</th>\n",
       "      <th>8.6661</th>\n",
       "      <th>-2.8073</th>\n",
       "      <th>-0.44699</th>\n",
       "      <th>0</th>\n",
       "    </tr>\n",
       "  </thead>\n",
       "  <tbody>\n",
       "    <tr>\n",
       "      <th>0</th>\n",
       "      <td>4.5459</td>\n",
       "      <td>8.1674</td>\n",
       "      <td>-2.4586</td>\n",
       "      <td>-1.46210</td>\n",
       "      <td>0</td>\n",
       "    </tr>\n",
       "    <tr>\n",
       "      <th>1</th>\n",
       "      <td>3.8660</td>\n",
       "      <td>-2.6383</td>\n",
       "      <td>1.9242</td>\n",
       "      <td>0.10645</td>\n",
       "      <td>0</td>\n",
       "    </tr>\n",
       "  </tbody>\n",
       "</table>\n",
       "</div>"
      ],
      "text/plain": [
       "   3.6216  8.6661  -2.8073  -0.44699  0\n",
       "0  4.5459  8.1674  -2.4586  -1.46210  0\n",
       "1  3.8660 -2.6383   1.9242   0.10645  0"
      ]
     },
     "execution_count": 32,
     "metadata": {},
     "output_type": "execute_result"
    }
   ],
   "source": [
    "data = pd.read_csv(\"./ML - Assignment 2/data_logistic.txt\")\n",
    "data.head(2)"
   ]
  },
  {
   "cell_type": "code",
   "execution_count": 33,
   "metadata": {},
   "outputs": [],
   "source": [
    "features = []\n",
    "targets = []\n",
    "with open(\"./ML - Assignment 2/data_logistic.txt\", 'r') as f:\n",
    "    for line in f:\n",
    "        arr = []\n",
    "        line_arr = line.split(',')\n",
    "        for i in range(len(line_arr) - 1):\n",
    "            arr.append(float(line_arr[i]))\n",
    "        arr.insert(0,1)\n",
    "        features.append(arr)\n",
    "        targets.append(int(line_arr[len(line_arr)-1]))"
   ]
  },
  {
   "cell_type": "code",
   "execution_count": 34,
   "metadata": {},
   "outputs": [
    {
     "name": "stdout",
     "output_type": "stream",
     "text": [
      "1372\n",
      "1372\n"
     ]
    }
   ],
   "source": [
    "print(len(features))\n",
    "print(len(targets))"
   ]
  },
  {
   "cell_type": "code",
   "execution_count": 35,
   "metadata": {},
   "outputs": [
    {
     "name": "stdout",
     "output_type": "stream",
     "text": [
      "TARGET:0  FEATURES:[1, 3.6216, 8.6661, -2.8073, -0.44699]  \n",
      "TARGET:0  FEATURES:[1, 4.5459, 8.1674, -2.4586, -1.4621]  \n",
      "TARGET:0  FEATURES:[1, 3.866, -2.6383, 1.9242, 0.10645]  \n",
      "TARGET:0  FEATURES:[1, 3.4566, 9.5228, -4.0112, -3.5944]  \n",
      "TARGET:0  FEATURES:[1, 0.32924, -4.4552, 4.5718, -0.9888]  \n",
      "TARGET:0  FEATURES:[1, 4.3684, 9.6718, -3.9606, -3.1625]  \n",
      "TARGET:0  FEATURES:[1, 3.5912, 3.0129, 0.72888, 0.56421]  \n",
      "TARGET:0  FEATURES:[1, 2.0922, -6.81, 8.4636, -0.60216]  \n",
      "TARGET:0  FEATURES:[1, 3.2032, 5.7588, -0.75345, -0.61251]  \n",
      "TARGET:0  FEATURES:[1, 1.5356, 9.1772, -2.2718, -0.73535]  \n"
     ]
    }
   ],
   "source": [
    "# print the first 10 training examples\n",
    "for i in range(10):\n",
    "    print(f'TARGET:{targets[i]}  FEATURES:{features[i]}  ')"
   ]
  },
  {
   "cell_type": "code",
   "execution_count": 36,
   "metadata": {},
   "outputs": [
    {
     "name": "stdout",
     "output_type": "stream",
     "text": [
      "[[1, 3.6216, 8.6661, -2.8073, -0.44699], [1, 4.5459, 8.1674, -2.4586, -1.4621]]\n",
      "\n",
      "[1, 3.6216, 8.6661, -2.8073, -0.44699]\n"
     ]
    }
   ],
   "source": [
    "print(features[:2])\n",
    "print()\n",
    "print(features[0])"
   ]
  },
  {
   "cell_type": "code",
   "execution_count": 37,
   "metadata": {},
   "outputs": [],
   "source": [
    "X = np.array(features)"
   ]
  },
  {
   "cell_type": "code",
   "execution_count": 38,
   "metadata": {},
   "outputs": [],
   "source": [
    "y = np.array(targets)"
   ]
  },
  {
   "cell_type": "code",
   "execution_count": 39,
   "metadata": {},
   "outputs": [],
   "source": [
    "def normalize(X):\n",
    "    X = X.T\n",
    "    \n",
    "    max_num = np.max(X, axis=1)\n",
    "    min_num = np.min(X, axis=1)\n",
    "    range_num = max_num - min_num\n",
    "    print(max_num)\n",
    "    print(min_num)\n",
    "    print(range_num)\n",
    "    \n",
    "    for i in range(len(X)):\n",
    "        if i == 0:\n",
    "            continue\n",
    "        X[i] = X[i] - min_num[i]\n",
    "        X[i] /= range_num[i]\n",
    "    \n",
    "    return X.T"
   ]
  },
  {
   "cell_type": "code",
   "execution_count": 40,
   "metadata": {},
   "outputs": [
    {
     "name": "stdout",
     "output_type": "stream",
     "text": [
      "[ 1.      6.8248 12.9516 17.9274  2.4495]\n",
      "[  1.      -7.0421 -13.7731  -5.2861  -8.5482]\n",
      "[ 0.     13.8669 26.7247 23.2135 10.9977]\n"
     ]
    }
   ],
   "source": [
    "X = normalize(X)"
   ]
  },
  {
   "cell_type": "code",
   "execution_count": 41,
   "metadata": {},
   "outputs": [
    {
     "name": "stdout",
     "output_type": "stream",
     "text": [
      "(1372, 5)\n",
      "[[1.         0.76900389 0.83964273 0.10678269 0.73662766]\n",
      " [1.         0.83565902 0.82098209 0.12180412 0.64432563]\n",
      " [1.         0.78662859 0.41664827 0.31060805 0.78695091]\n",
      " ...\n",
      " [1.         0.23738543 0.01176814 0.98560321 0.52475518]\n",
      " [1.         0.25084193 0.20170105 0.76158701 0.6606745 ]\n",
      " [1.         0.32452819 0.49074676 0.34334762 0.88594888]]\n"
     ]
    }
   ],
   "source": [
    "print(X.shape)\n",
    "print(X)"
   ]
  },
  {
   "cell_type": "code",
   "execution_count": 42,
   "metadata": {},
   "outputs": [
    {
     "name": "stdout",
     "output_type": "stream",
     "text": [
      "(1372, 5)\n",
      "(1372,)\n"
     ]
    }
   ],
   "source": [
    "print(X.shape)\n",
    "print(y.shape)"
   ]
  },
  {
   "cell_type": "code",
   "execution_count": 43,
   "metadata": {},
   "outputs": [
    {
     "name": "stdout",
     "output_type": "stream",
     "text": [
      "1372\n",
      "5\n"
     ]
    }
   ],
   "source": [
    "print(X.shape[0])\n",
    "print(X.shape[1])"
   ]
  },
  {
   "cell_type": "code",
   "execution_count": 44,
   "metadata": {},
   "outputs": [],
   "source": [
    "y = np.reshape(y,(y.shape[0],1))"
   ]
  },
  {
   "cell_type": "code",
   "execution_count": 45,
   "metadata": {},
   "outputs": [
    {
     "name": "stdout",
     "output_type": "stream",
     "text": [
      "(1372, 5)\n",
      "(1372, 1)\n"
     ]
    }
   ],
   "source": [
    "print(X.shape)\n",
    "print(y.shape)"
   ]
  },
  {
   "cell_type": "code",
   "execution_count": 46,
   "metadata": {},
   "outputs": [
    {
     "name": "stdout",
     "output_type": "stream",
     "text": [
      "[[0]\n",
      " [0]\n",
      " [0]\n",
      " ...\n",
      " [1]\n",
      " [1]\n",
      " [1]]\n"
     ]
    }
   ],
   "source": [
    "print(y)"
   ]
  },
  {
   "cell_type": "code",
   "execution_count": 47,
   "metadata": {},
   "outputs": [],
   "source": [
    "def sigmoid(x):\n",
    "    return (1 / (1 + np.exp(-x)))"
   ]
  },
  {
   "cell_type": "code",
   "execution_count": 48,
   "metadata": {},
   "outputs": [],
   "source": [
    "'''\n",
    "features: 1372*5\n",
    "weights : 5*1\n",
    "'''\n",
    "def predictions(features, weights):\n",
    "    '''\n",
    "    returns 1D array of probabilities\n",
    "    that the class is 1\n",
    "    '''\n",
    "    return sigmoid(np.dot(features, weights)) #this is a vector 1372*1"
   ]
  },
  {
   "cell_type": "code",
   "execution_count": 49,
   "metadata": {},
   "outputs": [],
   "source": [
    "def cost_function(predictions, targets):\n",
    "    cost_class1 = -targets*np.log(predictions)\n",
    "    cost_class2 = -(1-targets)*np.log(1-predictions)\n",
    "    cost = cost_class1 + cost_class2\n",
    "    total_cost = cost.sum() / len(targets)\n",
    "    return total_cost"
   ]
  },
  {
   "cell_type": "code",
   "execution_count": 50,
   "metadata": {},
   "outputs": [],
   "source": [
    "'''\n",
    "features: 1372*5\n",
    "weights: 5*1\n",
    "predictions: 1372*1\n",
    "target: 1372*1\n",
    "\n",
    "reshaped_features: 5*1372\n",
    "error: 1372*1\n",
    "error_value: 5*1\n",
    "'''\n",
    "\n",
    "def grad_descent(features, targets, weights, lr):\n",
    "    predicted_values = predictions(features, weights)\n",
    "    #reshape feature vector\n",
    "    reshaped_features = np.reshape(features, (features.shape[1], features.shape[0]))\n",
    "    error = predicted_values - targets\n",
    "    gradient = np.dot(reshaped_features, error)\n",
    "    gradient = gradient / len(features)\n",
    "    # multiply by learning rate\n",
    "    gradient = gradient * lr\n",
    "    weights = weights - gradient \n",
    "    return weights"
   ]
  },
  {
   "cell_type": "code",
   "execution_count": 51,
   "metadata": {},
   "outputs": [
    {
     "data": {
      "text/plain": [
       "array([[0.99664128],\n",
       "       [0.99668185],\n",
       "       [0.99664145],\n",
       "       [0.99711042],\n",
       "       [0.99714304]])"
      ]
     },
     "execution_count": 51,
     "metadata": {},
     "output_type": "execute_result"
    }
   ],
   "source": [
    "grad_descent(X,y,np.array([[1],[1],[1],[1],[1]]),0.01)"
   ]
  },
  {
   "cell_type": "code",
   "execution_count": 52,
   "metadata": {},
   "outputs": [],
   "source": [
    "def train(features, targets, weights, lr, iters):\n",
    "    \n",
    "    for i in range(iters):\n",
    "        weights = grad_descent(features, targets, weights, lr)\n",
    "        predicted_values = predictions(features, weights)\n",
    "        cost = cost_function(predicted_values, targets)\n",
    "        # print cost value every 1000 iteration\n",
    "        if i % 1000 == 0:\n",
    "            print(\"iter: \"+str(i) + \" cost: \"+str(cost))\n",
    "\n",
    "    return weights"
   ]
  },
  {
   "cell_type": "code",
   "execution_count": 53,
   "metadata": {},
   "outputs": [
    {
     "name": "stdout",
     "output_type": "stream",
     "text": [
      "iter: 0 cost: 0.6930415962737191\n",
      "iter: 1000 cost: 0.6765384820983171\n",
      "iter: 2000 cost: 0.6747802338884287\n",
      "iter: 3000 cost: 0.6732343948586952\n",
      "iter: 4000 cost: 0.67183494190053\n",
      "iter: 5000 cost: 0.6705820350640767\n",
      "iter: 6000 cost: 0.6694762869331242\n",
      "iter: 7000 cost: 0.6685181965372945\n",
      "iter: 8000 cost: 0.6677081422123271\n",
      "iter: 9000 cost: 0.6670463799485997\n",
      "iter: 10000 cost: 0.6665330424437135\n",
      "iter: 11000 cost: 0.6661681388141842\n",
      "iter: 12000 cost: 0.6659515549542998\n",
      "iter: 13000 cost: 0.6658830545228844\n",
      "iter: 14000 cost: 0.6659622805317347\n"
     ]
    }
   ],
   "source": [
    "weights = train(X,y,np.array([[0],[0],[0],[0],[0]]),0.01,15000)"
   ]
  },
  {
   "cell_type": "code",
   "execution_count": 54,
   "metadata": {},
   "outputs": [
    {
     "name": "stdout",
     "output_type": "stream",
     "text": [
      "[[-0.04972675]\n",
      " [ 0.42838136]\n",
      " [-1.34686706]\n",
      " [ 0.48993295]\n",
      " [ 0.34007464]]\n"
     ]
    }
   ],
   "source": [
    "print(weights)"
   ]
  },
  {
   "cell_type": "code",
   "execution_count": 55,
   "metadata": {},
   "outputs": [
    {
     "name": "stdout",
     "output_type": "stream",
     "text": [
      "[[0.36624448]\n",
      " [0.37315508]\n",
      " [0.53640537]\n",
      " [0.32753184]\n",
      " [0.53747952]\n",
      " [0.33530498]\n",
      " [0.46046006]\n",
      " [0.60286881]\n",
      " [0.40696249]\n",
      " [0.3461113 ]]\n",
      "<class 'numpy.ndarray'>\n"
     ]
    }
   ],
   "source": [
    "predicted_labels = predictions(X,weights)\n",
    "print(predicted_labels[:10])\n",
    "print(type(predicted_labels))"
   ]
  },
  {
   "cell_type": "code",
   "execution_count": 56,
   "metadata": {},
   "outputs": [],
   "source": [
    "def classify(predictions):\n",
    "    print(type(predictions))\n",
    "    classify_pred = []\n",
    "    np.array(classify_pred)\n",
    "    print(len(predictions))\n",
    "    for i in range(len(predictions)):\n",
    "        if (predictions[i] >= 0.5):\n",
    "            classify_pred.append(1)\n",
    "        else:\n",
    "            classify_pred.append(0)\n",
    "    return classify_pred"
   ]
  },
  {
   "cell_type": "code",
   "execution_count": 57,
   "metadata": {},
   "outputs": [],
   "source": [
    "def accuracy(predicted_labels, actual_labels):\n",
    "    diff = predicted_labels - actual_labels\n",
    "    return 1 - (float(np.count_nonzero(diff)) / len(diff))"
   ]
  },
  {
   "cell_type": "code",
   "execution_count": 58,
   "metadata": {},
   "outputs": [
    {
     "name": "stdout",
     "output_type": "stream",
     "text": [
      "<class 'numpy.ndarray'>\n",
      "1372\n"
     ]
    }
   ],
   "source": [
    "labels = classify(predicted_labels)\n",
    "labels = np.reshape(labels, (1372,1))"
   ]
  },
  {
   "cell_type": "code",
   "execution_count": 59,
   "metadata": {},
   "outputs": [
    {
     "name": "stdout",
     "output_type": "stream",
     "text": [
      "[[0]\n",
      " [0]\n",
      " [1]\n",
      " [0]\n",
      " [1]\n",
      " [0]\n",
      " [0]\n",
      " [1]\n",
      " [0]\n",
      " [0]]\n",
      "(1372, 1)\n",
      "[[0]\n",
      " [0]\n",
      " [0]\n",
      " [0]\n",
      " [0]\n",
      " [0]\n",
      " [0]\n",
      " [0]\n",
      " [0]\n",
      " [0]]\n",
      "(1372, 1)\n"
     ]
    }
   ],
   "source": [
    "print(labels[:10])\n",
    "print(labels.shape)\n",
    "print(y[:10])\n",
    "print(y.shape)"
   ]
  },
  {
   "cell_type": "code",
   "execution_count": 60,
   "metadata": {},
   "outputs": [
    {
     "data": {
      "text/plain": [
       "0.5575801749271136"
      ]
     },
     "execution_count": 60,
     "metadata": {},
     "output_type": "execute_result"
    }
   ],
   "source": [
    "accuracy(labels, y)"
   ]
  },
  {
   "cell_type": "code",
   "execution_count": null,
   "metadata": {},
   "outputs": [],
   "source": []
  },
  {
   "cell_type": "code",
   "execution_count": null,
   "metadata": {},
   "outputs": [],
   "source": []
  }
 ],
 "metadata": {
  "kernelspec": {
   "display_name": "Python 3",
   "language": "python",
   "name": "python3"
  },
  "language_info": {
   "codemirror_mode": {
    "name": "ipython",
    "version": 3
   },
   "file_extension": ".py",
   "mimetype": "text/x-python",
   "name": "python",
   "nbconvert_exporter": "python",
   "pygments_lexer": "ipython3",
   "version": "3.7.1"
  }
 },
 "nbformat": 4,
 "nbformat_minor": 2
}
