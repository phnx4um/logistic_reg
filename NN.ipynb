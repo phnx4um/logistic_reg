{
  "nbformat": 4,
  "nbformat_minor": 0,
  "metadata": {
    "colab": {
      "name": "LR.ipynb",
      "provenance": [],
      "collapsed_sections": [
        "unz_ccHUg8r7",
        "gVugzAa7hGeg"
      ],
      "authorship_tag": "ABX9TyPHfIJF0hItzKO2W0GXjTqI",
      "include_colab_link": true
    },
    "kernelspec": {
      "name": "python3",
      "display_name": "Python 3"
    }
  },
  "cells": [
    {
      "cell_type": "markdown",
      "metadata": {
        "id": "view-in-github",
        "colab_type": "text"
      },
      "source": [
        "<a href=\"https://colab.research.google.com/github/phnx4um/logistic_reg/blob/master/NN.ipynb\" target=\"_parent\"><img src=\"https://colab.research.google.com/assets/colab-badge.svg\" alt=\"Open In Colab\"/></a>"
      ]
    },
    {
      "cell_type": "code",
      "metadata": {
        "id": "K1gpcwc4i4B3"
      },
      "source": [
        "import numpy as np\r\n",
        "import pandas as pd\r\n",
        "import random\r\n",
        "import matplotlib.pyplot as plt\r\n",
        "%matplotlib inline "
      ],
      "execution_count": 145,
      "outputs": []
    },
    {
      "cell_type": "code",
      "metadata": {
        "id": "Sy2KA8pJjB-l"
      },
      "source": [
        "data = [[15, 10, 0], [13, 6, 0], [14,8, 0], [12, 9, 0], [10, 7, 0],  [12, 6, 0], [11, 8, 0], [13, 10, 0], [10, 6, 0], \r\n",
        "        [8, 12, 1],  [6, 11, 1], [8, 14,1], [9, 14, 1], [10, 15, 1], [9, 12, 1], [7, 10, 1], [8, 13, 1]]"
      ],
      "execution_count": 146,
      "outputs": []
    },
    {
      "cell_type": "code",
      "metadata": {
        "colab": {
          "base_uri": "https://localhost:8080/"
        },
        "id": "GLTJrm3zne9J",
        "outputId": "4298a687-fad1-4764-b9b4-5584268adc69"
      },
      "source": [
        "print(data)"
      ],
      "execution_count": 147,
      "outputs": [
        {
          "output_type": "stream",
          "text": [
            "[[15, 10, 0], [13, 6, 0], [14, 8, 0], [12, 9, 0], [10, 7, 0], [12, 6, 0], [11, 8, 0], [13, 10, 0], [10, 6, 0], [8, 12, 1], [6, 11, 1], [8, 14, 1], [9, 14, 1], [10, 15, 1], [9, 12, 1], [7, 10, 1], [8, 13, 1]]\n"
          ],
          "name": "stdout"
        }
      ]
    },
    {
      "cell_type": "code",
      "metadata": {
        "id": "UK2XSx_Rnl2W"
      },
      "source": [
        "random.shuffle(data)"
      ],
      "execution_count": 148,
      "outputs": []
    },
    {
      "cell_type": "code",
      "metadata": {
        "colab": {
          "base_uri": "https://localhost:8080/",
          "height": 318
        },
        "id": "JR4NETANnonL",
        "outputId": "4ef91cc4-2d90-474e-c928-39cba9b32f09"
      },
      "source": [
        "print(data)\r\n",
        "print(len(data))\r\n",
        "\r\n",
        "x = [p[0] for p in data]\r\n",
        "y = [p[1] for p in data]\r\n",
        "\r\n",
        "plt.scatter(x,y)\r\n",
        "plt.show()\r\n",
        "\r\n",
        "  "
      ],
      "execution_count": 149,
      "outputs": [
        {
          "output_type": "stream",
          "text": [
            "[[12, 9, 0], [13, 10, 0], [6, 11, 1], [7, 10, 1], [15, 10, 0], [9, 14, 1], [8, 14, 1], [8, 13, 1], [9, 12, 1], [12, 6, 0], [10, 15, 1], [11, 8, 0], [10, 6, 0], [13, 6, 0], [10, 7, 0], [8, 12, 1], [14, 8, 0]]\n",
            "17\n"
          ],
          "name": "stdout"
        },
        {
          "output_type": "display_data",
          "data": {
            "image/png": "[encoded data removed]",
            "text/plain": [
              "<Figure size 432x288 with 1 Axes>"
            ]
          },
          "metadata": {
            "tags": [],
            "needs_background": "light"
          }
        }
      ]
    },
    {
      "cell_type": "markdown",
      "metadata": {
        "id": "AcE9E-Frs1YN"
      },
      "source": [
        "***Vectorised Version***"
      ]
    },
    {
      "cell_type": "code",
      "metadata": {
        "id": "m-2EgzyCv-ag"
      },
      "source": [
        "def sigmoid(x):\r\n",
        "  return 1/(1 + np.exp(-x)) "
      ],
      "execution_count": 150,
      "outputs": []
    },
    {
      "cell_type": "code",
      "metadata": {
        "colab": {
          "base_uri": "https://localhost:8080/"
        },
        "id": "GrDz-PTssv7G",
        "outputId": "ed0ec1d6-f536-4a8a-d68e-8b5f775608b8"
      },
      "source": [
        "input = [ point[0:2] for point in data ]\r\n",
        "output = [point[-1] for point in data]\r\n",
        "print(input)\r\n",
        "print(output)"
      ],
      "execution_count": 152,
      "outputs": [
        {
          "output_type": "stream",
          "text": [
            "[[12, 9], [13, 10], [6, 11], [7, 10], [15, 10], [9, 14], [8, 14], [8, 13], [9, 12], [12, 6], [10, 15], [11, 8], [10, 6], [13, 6], [10, 7], [8, 12], [14, 8]]\n",
            "[0, 0, 1, 1, 0, 1, 1, 1, 1, 0, 1, 0, 0, 0, 0, 1, 0]\n"
          ],
          "name": "stdout"
        }
      ]
    },
    {
      "cell_type": "code",
      "metadata": {
        "colab": {
          "base_uri": "https://localhost:8080/"
        },
        "id": "joJYc9R0Qtlm",
        "outputId": "0f1cccff-3f73-48a0-a657-1e7b913a62de"
      },
      "source": [
        "# ADD loocv\r\n",
        "total_err = []\r\n",
        "for i in range(len(input)):\r\n",
        "  loocv_input = input[:i] + input[i+1:]\r\n",
        "  loocv_output = output[:i] + output[i+1:]\r\n",
        "\r\n",
        "  validate_input = input[i]\r\n",
        "  validate_output = output[i]\r\n",
        "\r\n",
        "  X = np.array(loocv_input)\r\n",
        "  X = X.T\r\n",
        "\r\n",
        "  y = np.array(loocv_output)\r\n",
        "  y = y.reshape(1, len(y))\r\n",
        "\r\n",
        "  W = np.array([-0.1,0.1]).reshape(2,1)\r\n",
        "  B = 0.1\r\n",
        "  a = 0.002\r\n",
        "\r\n",
        "  # training \r\n",
        "  epochs = 50000\r\n",
        "  for i in range(epochs): \r\n",
        "    dw = np.array([0,0]).reshape(2,1)\r\n",
        "    db = 0\r\n",
        "\r\n",
        "    Z = np.dot(W.T, X) + B\r\n",
        "\r\n",
        "    A = 1/(1 + np.exp(-Z))\r\n",
        "\r\n",
        "    dZ = A - y\r\n",
        "\r\n",
        "    dw = 1/X.shape[1] * (np.dot(X, dZ.T))\r\n",
        "    db = 1/X.shape[1] * np.sum(dZ)\r\n",
        "\r\n",
        "    W = W - (a * dw)\r\n",
        "    B = B - (a * db) \r\n",
        "\r\n",
        "  print(W)\r\n",
        "  print(B)\r\n",
        "  print()\r\n",
        "\r\n",
        "  total_err.append(err(validate_input, validate_output, W, B))\r\n",
        "\r\n",
        "print(total_err)\r\n",
        "print(len(total_err))\r\n",
        "loocv_err = sum(total_err)/len(total_err)\r\n",
        "print(loocv_err)"
      ],
      "execution_count": 156,
      "outputs": [
        {
          "output_type": "stream",
          "text": [
            "[[-1.73776458]\n",
            " [ 1.71075633]]\n",
            "0.09140402201491314\n",
            "\n",
            "[[-1.73743123]\n",
            " [ 1.71272399]]\n",
            "0.08016387566545852\n",
            "\n",
            "[[-1.77719673]\n",
            " [ 1.73494859]]\n",
            "0.09152456182111807\n",
            "\n",
            "[[-1.72987554]\n",
            " [ 1.66896813]]\n",
            "0.06793142626074725\n",
            "\n",
            "[[-1.7788897 ]\n",
            " [ 1.73762844]]\n",
            "0.09135562646171999\n",
            "\n",
            "[[-1.77711522]\n",
            " [ 1.73372996]]\n",
            "0.0997653772293402\n",
            "\n",
            "[[-1.78068921]\n",
            " [ 1.73827658]]\n",
            "0.09714684987109616\n",
            "\n",
            "[[-1.77714254]\n",
            " [ 1.73416366]]\n",
            "0.09683078529998769\n",
            "\n",
            "[[-1.72934249]\n",
            " [ 1.65218396]]\n",
            "0.10496354952053571\n",
            "\n",
            "[[-1.78132225]\n",
            " [ 1.73907521]]\n",
            "0.09743807327804802\n",
            "\n",
            "[[-1.77708789]\n",
            " [ 1.73326421]]\n",
            "0.10292237037582298\n",
            "\n",
            "[[-1.73795699]\n",
            " [ 1.70866493]]\n",
            "0.10279625080145365\n",
            "\n",
            "[[-1.7702599 ]\n",
            " [ 1.72913685]]\n",
            "0.10519209159700209\n",
            "\n",
            "[[-1.78206232]\n",
            " [ 1.7398471 ]]\n",
            "0.09658332105092274\n",
            "\n",
            "[[-1.73801623]\n",
            " [ 1.70642492]]\n",
            "0.11446766825006735\n",
            "\n",
            "[[-1.76572454]\n",
            " [ 1.71948717]]\n",
            "0.09515793963791959\n",
            "\n",
            "[[-1.78127337]\n",
            " [ 1.73927567]]\n",
            "0.09503891783296416\n",
            "\n",
            "[0.0046667224698958, 0.004600899250670484, 0.00020086467143569603, 0.009530548454276483, 9.945998451065399e-05, 0.0002298547944637874, 3.7636954330841196e-05, 0.00021955061366059093, 0.012608305942583622, 1.9521631462244366e-05, 0.00024090036589904053, 0.0047586490506970345, 0.0007296463274100834, 3.2686095687343834e-06, 0.004877317715203829, 0.0013550929812364116, 1.793795074311139e-05]\n",
            "17\n",
            "0.0025997751628263795\n"
          ],
          "name": "stdout"
        }
      ]
    },
    {
      "cell_type": "code",
      "metadata": {
        "id": "9dmpoWIYo21b"
      },
      "source": [
        "def err(point, y , W, B):\r\n",
        "  w0 = W[0][0]\r\n",
        "  w1 =  W[1][0]\r\n",
        "  b = B\r\n",
        "\r\n",
        "  x0 = point[0]\r\n",
        "  x1 = point[1]\r\n",
        "  y = y\r\n",
        "\r\n",
        "  z = (w0 * x0) + (w1 * x1) + b\r\n",
        "  a = sigmoid(z) \r\n",
        "\r\n",
        "  loss = -((y * np.log(a)) + ((1 - y) * np.log(1 - a)))\r\n",
        "  return loss"
      ],
      "execution_count": 154,
      "outputs": []
    },
    {
      "cell_type": "code",
      "metadata": {
        "id": "pPVZrtWWvUIn"
      },
      "source": [
        ""
      ],
      "execution_count": null,
      "outputs": []
    },
    {
      "cell_type": "markdown",
      "metadata": {
        "id": "6HikgEY8vdtC"
      },
      "source": [
        ""
      ]
    },
    {
      "cell_type": "markdown",
      "metadata": {
        "id": "yVgeo1tJveZX"
      },
      "source": [
        "# Error Calculations for all points"
      ]
    },
    {
      "cell_type": "code",
      "metadata": {
        "colab": {
          "base_uri": "https://localhost:8080/"
        },
        "id": "QS7q1b-J17Tf",
        "outputId": "21b2a6df-fba4-455a-daeb-2123c5be946b"
      },
      "source": [
        "# error values\r\n",
        "output = []\r\n",
        "for point in data:\r\n",
        "  output.append(err(point, W, B))\r\n",
        "\r\n",
        "for result in output:\r\n",
        "  print(result)"
      ],
      "execution_count": 114,
      "outputs": [
        {
          "output_type": "stream",
          "text": [
            "0.004117747427420111\n",
            "0.0012960468373146583\n",
            "0.003948560875223476\n",
            "0.006934243849589541\n",
            "2.1649636220233932e-05\n",
            "4.141624901536757e-05\n",
            "1.9903787348126992e-05\n",
            "0.00754019590854437\n",
            "0.0037863125656506704\n",
            "3.7096733279676963e-06\n",
            "0.0002130489681525634\n",
            "0.0002416830016492275\n",
            "0.0002520585784985866\n",
            "0.00023173446887292683\n",
            "0.003630719022882951\n",
            "0.000737111005833924\n",
            "0.0001067875021923253\n"
          ],
          "name": "stdout"
        }
      ]
    },
    {
      "cell_type": "markdown",
      "metadata": {
        "id": "unz_ccHUg8r7"
      },
      "source": [
        "# PREDICTIONS"
      ]
    },
    {
      "cell_type": "code",
      "metadata": {
        "id": "CQ4uuDbobmZ5"
      },
      "source": [
        "def predict(point, W, B):\r\n",
        "  w0 = W[0][0]\r\n",
        "  w1 =  W[1][0]\r\n",
        "  b = B\r\n",
        "\r\n",
        "  x0 = point[0]\r\n",
        "  x1 = point[1]\r\n",
        "  y = point[-1]\r\n",
        "\r\n",
        "  z = (w0 * x0) + (w1 * x1) + b\r\n",
        "  a = sigmoid(z) \r\n",
        "\r\n",
        "  if (a > 0.5):\r\n",
        "    pre = 1\r\n",
        "  else: \r\n",
        "    pre = 0\r\n",
        "\r\n",
        "  output = 'incorrect'\r\n",
        "  if y == pre:\r\n",
        "    output = 'correct'\r\n",
        "  \r\n",
        "  print(y , pre, output) "
      ],
      "execution_count": 116,
      "outputs": []
    },
    {
      "cell_type": "code",
      "metadata": {
        "colab": {
          "base_uri": "https://localhost:8080/"
        },
        "id": "BrNAHaIXeTJt",
        "outputId": "f0826108-5722-404a-c978-abf1e2ef8220"
      },
      "source": [
        "# predictions\r\n",
        "print('T', 'P', 'isC')\r\n",
        "for point in data:\r\n",
        "  predict(point, W, B)"
      ],
      "execution_count": 120,
      "outputs": [
        {
          "output_type": "stream",
          "text": [
            "T P isC\n",
            "0 0 correct\n",
            "1 1 correct\n",
            "0 0 correct\n",
            "1 1 correct\n",
            "0 0 correct\n",
            "1 1 correct\n",
            "0 0 correct\n",
            "1 1 correct\n",
            "0 0 correct\n",
            "0 0 correct\n",
            "1 1 correct\n",
            "1 1 correct\n",
            "1 1 correct\n",
            "1 1 correct\n",
            "0 0 correct\n",
            "0 0 correct\n",
            "0 0 correct\n"
          ],
          "name": "stdout"
        }
      ]
    },
    {
      "cell_type": "code",
      "metadata": {
        "id": "qRV1NXu2eTnP"
      },
      "source": [
        ""
      ],
      "execution_count": null,
      "outputs": []
    },
    {
      "cell_type": "markdown",
      "metadata": {
        "id": "gVugzAa7hGeg"
      },
      "source": [
        "# NON-VECTORISED VERSION"
      ]
    },
    {
      "cell_type": "code",
      "metadata": {
        "colab": {
          "base_uri": "https://localhost:8080/"
        },
        "id": "q-omlPtWnvVx",
        "outputId": "31baae19-8f4d-4e01-f945-c9d354ee0056"
      },
      "source": [
        "# training loop\r\n",
        "w0 = -0.1\r\n",
        "w1 = 0.1\r\n",
        "b = 0.1\r\n",
        "a = 0.002\r\n",
        "\r\n",
        "epochs = 50000\r\n",
        "for i in range(epochs):\r\n",
        "  # loop over all the points to calculate the gradient\r\n",
        "  dw0 = 0\r\n",
        "  dw1 = 0\r\n",
        "  db = 0\r\n",
        "  J = 0\r\n",
        "\r\n",
        "  for point in data:\r\n",
        "\r\n",
        "    x0 = point[0]\r\n",
        "    x1 = point[1]\r\n",
        "    y = point[-1]\r\n",
        "\r\n",
        "    z = (w0 * x0) + (w1 * x1) + b\r\n",
        "    # print(z)\r\n",
        "    a = 1/(1 + np.exp(-z))  # sigmoid\r\n",
        "    # print(a)\r\n",
        "\r\n",
        "    J += -((y * np.log(a)) + ((1 - y) * np.log(1 - a)))\r\n",
        "\r\n",
        "    dz = a - y  # dL/dz derivative of loss function wrt z\r\n",
        "\r\n",
        "    dw0 += dz * x0\r\n",
        "    dw1 += dz * x1\r\n",
        "    db += dz\r\n",
        "\r\n",
        "  dw0 /= len(data)\r\n",
        "  dw1 /= len(data)\r\n",
        "  db /= len(data)\r\n",
        "  J/= len(data)\r\n",
        "\r\n",
        "  if i % 5000 == 0:\r\n",
        "    print(J)\r\n",
        "\r\n",
        "  # gradient descent step\r\n",
        "  w0 = w0 - (a * dw0)\r\n",
        "  w1 = w1 - (a * dw1)\r\n",
        "  b  =  b - (a * db) \r\n",
        "\r\n",
        "print()\r\n",
        "print(w0, w1, b)\r\n"
      ],
      "execution_count": 49,
      "outputs": [
        {
          "output_type": "stream",
          "text": [
            "0.4999301901794093\n",
            "0.009835584348704829\n",
            "0.0075713420205596816\n",
            "0.006498373669529025\n",
            "0.005831107334617692\n",
            "0.005361308248018829\n",
            "0.005005809399761889\n",
            "0.004723764174945111\n",
            "0.004492369221632034\n",
            "0.004297722945930215\n",
            "\n",
            "-1.5241598359611988 1.4843930678735349 0.09446864075475009\n",
            "0.004130817105717906\n"
          ],
          "name": "stdout"
        }
      ]
    }
  ]
}